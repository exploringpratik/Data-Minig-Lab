{
 "cells": [
  {
   "cell_type": "code",
   "execution_count": 20,
   "metadata": {},
   "outputs": [
    {
     "name": "stdout",
     "output_type": "stream",
     "text": [
      "The MSE due to linear term = 23.361902892587224\n",
      "The MSE due to  1 23.361902892587224\n",
      "The MSE due to  2 20.252690858347492\n",
      "The MSE due to  3 20.325609366315604\n",
      "The MSE due to  4 20.343887109415615\n",
      "The MSE due to  5 20.036401333714295\n",
      "The MSE due to  6 19.883787748806622\n",
      "The MSE due to  7 20.187778457887088\n",
      "The MSE due to  8 20.357145671166744\n",
      "The MSE due to  9 20.26849291274583\n",
      "The MSE due to  10 20.11259671706724\n",
      "The MSE due to  11 20.561295430971313\n",
      "The MSE due to  12 26.198194241135102\n"
     ]
    },
    {
     "data": {
      "text/plain": [
       "Text(0, 0.5, 'MSE')"
      ]
     },
     "execution_count": 20,
     "metadata": {},
     "output_type": "execute_result"
    },
    {
     "data": {
      "image/png": "[encoded data removed]",
      "text/plain": [
       "<Figure size 432x288 with 1 Axes>"
      ]
     },
     "metadata": {
      "needs_background": "light"
     },
     "output_type": "display_data"
    }
   ],
   "source": [
    "import pandas as pd\n",
    "import numpy as np\n",
    "import sklearn.linear_model as skl_lm\n",
    "from sklearn.metrics import mean_squared_error\n",
    "from sklearn.preprocessing import PolynomialFeatures\n",
    "from sklearn.model_selection import cross_val_score\n",
    "from sklearn.model_selection import LeaveOneOut\n",
    "from sklearn.model_selection import KFold\n",
    "import matplotlib.pyplot as plt\n",
    "\n",
    "data_frame_cars = pd.read_csv('cars.csv')\n",
    "#print(data_frame_cars.head())\n",
    "\n",
    "train_data_frame_cars = data_frame_cars.sample(196,random_state=1).dropna(how = 'all')\n",
    "test_data_frame_cars = data_frame_cars[~data_frame_cars.isin(train_data_frame_cars)].dropna(how='all')\n",
    "\n",
    "#print(train_data_frame_cars.head())\n",
    "#print(train_data_frame_cars.head())\n",
    "\n",
    "train_data = train_data_frame_cars['horsepower'].values.reshape(-1,1)\n",
    "train_data_labels = train_data_frame_cars['mpg']\n",
    "test_data = test_data_frame_cars['horsepower'].values.reshape(-1,1)\n",
    "test_data_labels = test_data_frame_cars['mpg']\n",
    "\n",
    "# Using a linear regression model for the prediction\n",
    "lm = skl_lm.LinearRegression()\n",
    "model = lm.fit(train_data,train_data_labels)\n",
    "pred = model.predict(test_data)\n",
    "\n",
    "# Calculating the mean square error of the prediction\n",
    "MSE = mean_squared_error(test_data_labels,pred)\n",
    "print(\"The MSE due to linear term = \"+str(MSE))\n",
    "\n",
    "#Quadratic polynomial term\n",
    "x = []\n",
    "degrees = []\n",
    "for degree in range (1,13):\n",
    "    poly_quadratic = PolynomialFeatures(degree)\n",
    "    train_data_quadratic = poly_quadratic.fit_transform(train_data)\n",
    "    test_data_quadratic = poly_quadratic.fit_transform(test_data)\n",
    "\n",
    "    model =lm.fit(train_data_quadratic,train_data_labels)\n",
    "    \n",
    "    print(\"The MSE due to  \"+str(degree)+\" \"+str(mean_squared_error(test_data_labels,model.predict(test_data_quadratic))))\n",
    "    x.append(mean_squared_error(test_data_labels,model.predict(test_data_quadratic)))\n",
    "    degrees.append(degree)\n",
    "    \n",
    "plt.plot(degrees,x)\n",
    "plt.xlabel(\"degree\")\n",
    "plt.ylabel(\"MSE\")\n",
    "    "
   ]
  },
  {
   "cell_type": "code",
   "execution_count": null,
   "metadata": {},
   "outputs": [],
   "source": []
  }
 ],
 "metadata": {
  "kernelspec": {
   "display_name": "Python 3",
   "language": "python",
   "name": "python3"
  },
  "language_info": {
   "codemirror_mode": {
    "name": "ipython",
    "version": 3
   },
   "file_extension": ".py",
   "mimetype": "text/x-python",
   "name": "python",
   "nbconvert_exporter": "python",
   "pygments_lexer": "ipython3",
   "version": "3.7.4"
  }
 },
 "nbformat": 4,
 "nbformat_minor": 2
}
