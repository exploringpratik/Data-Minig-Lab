{
 "cells": [
  {
   "cell_type": "code",
   "execution_count": 1,
   "metadata": {},
   "outputs": [],
   "source": [
    "import numpy as np \n",
    "import matplotlib.pyplot as plt \n",
    "import pandas as pd \n",
    "from numpy import log2 as log\n",
    "from sklearn import tree\n",
    "import pydotplus\n",
    "from IPython.display import Image \n",
    "import time "
   ]
  },
  {
   "cell_type": "code",
   "execution_count": 2,
   "metadata": {},
   "outputs": [],
   "source": [
    "eps =np.finfo(float).eps"
   ]
  },
  {
   "cell_type": "code",
   "execution_count": 3,
   "metadata": {},
   "outputs": [],
   "source": [
    "dataset={'Taste':['salty','spicy','spicy','spicy','spicy','sweet','salty','sweet','spicy','salty'],\n",
    "        'Temperature':['hot','hot','hot','cold','hot','cold','cold','hot','cold','hot'],\n",
    "        'Texture':['soft','soft','hard','hard','hard','soft','soft','soft','soft','hard'],\n",
    "        'Eat':['no','no','yes','no','yes','yes','no','yes','yes','yes']}"
   ]
  },
  {
   "cell_type": "code",
   "execution_count": 4,
   "metadata": {},
   "outputs": [],
   "source": [
    "df=pd.DataFrame(dataset,columns=['Taste','Temperature','Texture','Eat'])"
   ]
  },
  {
   "cell_type": "code",
   "execution_count": 5,
   "metadata": {},
   "outputs": [
    {
     "name": "stdout",
     "output_type": "stream",
     "text": [
      "   Taste Temperature Texture  Eat\n",
      "0  salty         hot    soft   no\n",
      "1  spicy         hot    soft   no\n",
      "2  spicy         hot    hard  yes\n",
      "3  spicy        cold    hard   no\n",
      "4  spicy         hot    hard  yes\n",
      "5  sweet        cold    soft  yes\n",
      "6  salty        cold    soft   no\n",
      "7  sweet         hot    soft  yes\n",
      "8  spicy        cold    soft  yes\n",
      "9  salty         hot    hard  yes\n"
     ]
    }
   ],
   "source": [
    "print(df)"
   ]
  },
  {
   "cell_type": "code",
   "execution_count": 6,
   "metadata": {},
   "outputs": [
    {
     "name": "stdout",
     "output_type": "stream",
     "text": [
      "parent entropy : 0.9709505944546686\n"
     ]
    }
   ],
   "source": [
    "entropy_node=0\n",
    "values=df.Eat.unique()\n",
    "for value in values:\n",
    "    fraction = df.Eat.value_counts()[value]/len(df.Eat)\n",
    "    entropy_node+=-fraction*np.log2(fraction)\n",
    "print('parent entropy :',entropy_node)"
   ]
  },
  {
   "cell_type": "code",
   "execution_count": 7,
   "metadata": {},
   "outputs": [
    {
     "ename": "SyntaxError",
     "evalue": "invalid syntax (<ipython-input-7-426e9039b098>, line 10)",
     "output_type": "error",
     "traceback": [
      "\u001b[1;36m  File \u001b[1;32m\"<ipython-input-7-426e9039b098>\"\u001b[1;36m, line \u001b[1;32m10\u001b[0m\n\u001b[1;33m    frac = num / (den+eps)\u001b[0m\n\u001b[1;37m       ^\u001b[0m\n\u001b[1;31mSyntaxError\u001b[0m\u001b[1;31m:\u001b[0m invalid syntax\n"
     ]
    }
   ],
   "source": [
    "attribute='Taste'\n",
    "target_variables=df.Eat.unique()\n",
    "variables=df[attribute].unique()\n",
    "entropy_attribute=0\n",
    "for variable in variables:\n",
    "    entropy_each_feature=0\n",
    "    for target_variable in target_variables:\n",
    "        num=len(df[attribute][df[attribute]==variable][df.Eat==target_variables])\n",
    "        den=len(df[attribute][df[attribute]==variable]\n",
    "        frac = num / (den+eps)\n",
    "        entropy_each_feature+=-frac*log(frac+eps)\n",
    "    fraction2=den/len(df)\n",
    "    entropy_attribute+=-fraction2*entropy_each_feature\n",
    "\n",
    "IG_attribute=entropy_node - abs(entropy_attribute)\n",
    "print('entropy of ',attribute,'is', round(abs(entropy_attribute),3))\n",
    "print('IG','due to',attribute,'is', round(IG_attribute,3))\n",
    "        "
   ]
  },
  {
   "cell_type": "code",
   "execution_count": null,
   "metadata": {},
   "outputs": [],
   "source": [
    "x_columns=pd.get_dummies(df[['Taste','Temperature','Texture']])"
   ]
  },
  {
   "cell_type": "code",
   "execution_count": null,
   "metadata": {
    "scrolled": true
   },
   "outputs": [],
   "source": [
    "x_columns=pd.get_dummies(df[['Taste','Temperature','Texture']])\n",
    "for rand in range(1):\n",
    "    dtree = tree.DecisionTreeClassifier(max_features= 3, random_state=rand, max_depth=5, criterion='entropy', splitter='best')\n",
    "    \n",
    "    model =dtree.fit(x_columns, df['Eat']) \n",
    "    out_file = tree.export_graphviz(model,feature_names=list(x_columns.columns.values), class_names=['no',\"yes\"], filled=True, rounded=True)\n",
    "    graph=pydotplus.graph_from_dot_data(out_file)\n",
    "    Image(graph.create_png())\n",
    "    graph.write_png('tree.png')\n",
    "    print(rand )\n",
    "    time.sleep(5)\n",
    "    "
   ]
  },
  {
   "cell_type": "code",
   "execution_count": null,
   "metadata": {},
   "outputs": [],
   "source": []
  },
  {
   "cell_type": "code",
   "execution_count": null,
   "metadata": {},
   "outputs": [],
   "source": []
  }
 ],
 "metadata": {
  "kernelspec": {
   "display_name": "Python 3",
   "language": "python",
   "name": "python3"
  },
  "language_info": {
   "codemirror_mode": {
    "name": "ipython",
    "version": 3
   },
   "file_extension": ".py",
   "mimetype": "text/x-python",
   "name": "python",
   "nbconvert_exporter": "python",
   "pygments_lexer": "ipython3",
   "version": "3.7.4"
  }
 },
 "nbformat": 4,
 "nbformat_minor": 2
}
