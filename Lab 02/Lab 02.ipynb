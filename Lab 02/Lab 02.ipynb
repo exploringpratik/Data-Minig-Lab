{
 "cells": [
  {
   "cell_type": "code",
   "execution_count": 3,
   "metadata": {},
   "outputs": [],
   "source": [
    "import numpy as np\n",
    "import pandas as pd\n",
    "from numpy import log2 as log\n",
    "from sklearn import tree\n",
    "import pydotplus\n",
    "from IPython.display import Image\n",
    "import time"
   ]
  },
  {
   "cell_type": "code",
   "execution_count": 4,
   "metadata": {},
   "outputs": [
    {
     "name": "stdout",
     "output_type": "stream",
     "text": [
      "2.220446049250313e-16\n"
     ]
    }
   ],
   "source": [
    "eps = np.finfo(float).eps\n",
    "print(eps)"
   ]
  },
  {
   "cell_type": "code",
   "execution_count": 5,
   "metadata": {},
   "outputs": [],
   "source": [
    "dataset = {'Taste':['Salty','Spicy','Spicy','Spicy','Spicy','Sweet','Salty','Sweet','Spicy','Salty' ],\n",
    "            'Temperature':['Hot','Hot','Hot','Cold','Hot','Cold','Cold','Hot','Cold','Hot'],\n",
    "            'Texture':['Soft','Soft','Hard','Hard','Hard','Soft','Soft','Soft','Soft','Hard'],\n",
    "            'Eat':['No','No','Yes','No','Yes','Yes','No','Yes','Yes','Yes']\n",
    "          }"
   ]
  },
  {
   "cell_type": "code",
   "execution_count": 6,
   "metadata": {},
   "outputs": [
    {
     "name": "stdout",
     "output_type": "stream",
     "text": [
      "   Taste Temperature Texture  Eat\n",
      "0  Salty         Hot    Soft   No\n",
      "1  Spicy         Hot    Soft   No\n",
      "2  Spicy         Hot    Hard  Yes\n",
      "3  Spicy        Cold    Hard   No\n",
      "4  Spicy         Hot    Hard  Yes\n",
      "5  Sweet        Cold    Soft  Yes\n",
      "6  Salty        Cold    Soft   No\n",
      "7  Sweet         Hot    Soft  Yes\n",
      "8  Spicy        Cold    Soft  Yes\n",
      "9  Salty         Hot    Hard  Yes\n"
     ]
    }
   ],
   "source": [
    "df = pd.DataFrame(dataset, columns=['Taste','Temperature','Texture','Eat'])\n",
    "print(df)"
   ]
  },
  {
   "cell_type": "code",
   "execution_count": 8,
   "metadata": {},
   "outputs": [
    {
     "name": "stdout",
     "output_type": "stream",
     "text": [
      "['No' 'Yes']\n",
      "Parent Entropy is:  0.9709505944546686\n"
     ]
    }
   ],
   "source": [
    "entropy_node = 0\n",
    "values = df.Eat.unique()\n",
    "print(values)\n",
    "for value in values:\n",
    "    fraction = df.Eat.value_counts()[value]/len(df.Eat)\n",
    "    entropy_node += -fraction * np.log2(fraction)\n",
    "    \n",
    "print('Parent Entropy is: ', entropy_node)"
   ]
  },
  {
   "cell_type": "code",
   "execution_count": 6,
   "metadata": {},
   "outputs": [
    {
     "name": "stdout",
     "output_type": "stream",
     "text": [
      "Entropy of  Taste is:  0.761\n",
      "IG  due to Taste is:  0.21\n",
      "Entropy of  Temperature is:  0.951\n",
      "IG  due to Temperature is:  0.02\n",
      "Entropy of  Texture is:  0.925\n",
      "IG  due to Texture is:  0.046\n"
     ]
    }
   ],
   "source": [
    "def index(attribute):\n",
    "    attribute = attribute\n",
    "    target_variables  = df.Eat.unique()\n",
    "    variables = df[attribute].unique()\n",
    "    entropy_attribute = 0\n",
    "    for variable in variables:\n",
    "        entropy_each_feature = 0\n",
    "        for target_variable in target_variables:\n",
    "            num = len(df[attribute][df[attribute]==variable][df.Eat == target_variable])\n",
    "            den = len(df[attribute][df[attribute]==variable])\n",
    "            fraction = num/(den+eps)\n",
    "            entropy_each_feature += fraction*log(fraction+eps)\n",
    "        fraction2 = den/len(df)\n",
    "        entropy_attribute += -fraction2*entropy_each_feature\n",
    "\n",
    "    IG_attribute = entropy_node - abs(entropy_attribute)\n",
    "    print(\"Entropy of \", attribute, \"is: \", round(abs(entropy_attribute),3))\n",
    "    print(\"IG \", \"due to\", attribute, \"is: \", round(IG_attribute,3))\n",
    "    \n",
    "index('Taste')\n",
    "index('Temperature')\n",
    "index('Texture')"
   ]
  },
  {
   "cell_type": "code",
   "execution_count": 9,
   "metadata": {},
   "outputs": [
    {
     "name": "stdout",
     "output_type": "stream",
     "text": [
      "0\n",
      "1\n",
      "2\n",
      "3\n",
      "4\n",
      "5\n",
      "6\n",
      "7\n",
      "8\n",
      "9\n",
      "10\n",
      "11\n",
      "12\n",
      "13\n",
      "14\n",
      "15\n",
      "16\n",
      "17\n",
      "18\n",
      "19\n",
      "20\n",
      "21\n",
      "22\n",
      "23\n",
      "24\n",
      "25\n",
      "26\n",
      "27\n",
      "28\n",
      "29\n",
      "30\n",
      "31\n",
      "32\n",
      "33\n",
      "34\n",
      "35\n",
      "36\n",
      "37\n",
      "38\n",
      "39\n",
      "40\n",
      "41\n",
      "42\n",
      "43\n",
      "44\n",
      "45\n",
      "46\n",
      "47\n",
      "48\n",
      "49\n",
      "50\n",
      "51\n",
      "52\n",
      "53\n",
      "54\n",
      "55\n",
      "56\n",
      "57\n",
      "58\n",
      "59\n",
      "60\n",
      "61\n",
      "62\n",
      "63\n",
      "64\n",
      "65\n",
      "66\n",
      "67\n",
      "68\n",
      "69\n",
      "70\n",
      "71\n",
      "72\n",
      "73\n",
      "74\n",
      "75\n",
      "76\n",
      "77\n",
      "78\n",
      "79\n",
      "80\n",
      "81\n",
      "82\n",
      "83\n",
      "84\n",
      "85\n",
      "86\n",
      "87\n",
      "88\n",
      "89\n",
      "90\n",
      "91\n",
      "92\n",
      "93\n",
      "94\n",
      "95\n",
      "96\n",
      "97\n",
      "98\n",
      "99\n"
     ]
    }
   ],
   "source": [
    "\n",
    "\n",
    "x_columns = pd.get_dummies(df[['Taste','Temperature','Texture']])\n",
    "\n",
    "for rand in range(100):\n",
    "    dtree = tree.DecisionTreeClassifier(max_features = 3, random_state = rand, max_depth = 5, \n",
    "                                        criterion = 'gini', splitter = 'best')\n",
    "    model = dtree.fit(x_columns,df['Eat'])\n",
    "    out_file = tree.export_graphviz(model,feature_names = list(x_columns.columns.values),\n",
    "                                    class_names = ['No','Yes'], filled = True, rounded = True)\n",
    "    graph = pydotplus.graph_from_dot_data(out_file)\n",
    "    Image(graph.create_png())\n",
    "    \n",
    "    graph.write_png('tree.png')\n",
    "\n",
    "    print(rand)\n",
    "\n",
    "    \n",
    "    "
   ]
  },
  {
   "cell_type": "code",
   "execution_count": null,
   "metadata": {},
   "outputs": [],
   "source": []
  }
 ],
 "metadata": {
  "kernelspec": {
   "display_name": "Python 3",
   "language": "python",
   "name": "python3"
  },
  "language_info": {
   "codemirror_mode": {
    "name": "ipython",
    "version": 3
   },
   "file_extension": ".py",
   "mimetype": "text/x-python",
   "name": "python",
   "nbconvert_exporter": "python",
   "pygments_lexer": "ipython3",
   "version": "3.7.4"
  }
 },
 "nbformat": 4,
 "nbformat_minor": 4
}
