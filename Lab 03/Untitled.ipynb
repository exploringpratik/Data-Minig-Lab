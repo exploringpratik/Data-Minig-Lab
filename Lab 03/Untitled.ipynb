{
 "cells": [
  {
   "cell_type": "code",
   "execution_count": 12,
   "metadata": {},
   "outputs": [],
   "source": [
    "import pandas as pd\n",
    "import matplotlib.pyplot as plt\n",
    "import numpy as np\n",
    "from sklearn.preprocessing import StandardScaler\n",
    "from sklearn.model_selection import train_test_split\n",
    "from sklearn.metrics import classification_report, confusion_matrix\n",
    "from sklearn.neighbors import KNeighborsClassifier"
   ]
  },
  {
   "cell_type": "code",
   "execution_count": 13,
   "metadata": {},
   "outputs": [
    {
     "name": "stdout",
     "output_type": "stream",
     "text": [
      "        WTT       PTI       EQW       SBI       LQE       QWG       FDJ  \\\n",
      "0  0.913917  1.162073  0.567946  0.755464  0.780862  0.352608  0.759697   \n",
      "1  0.635632  1.003722  0.535342  0.825645  0.924109  0.648450  0.675334   \n",
      "2  0.721360  1.201493  0.921990  0.855595  1.526629  0.720781  1.626351   \n",
      "3  1.234204  1.386726  0.653046  0.825624  1.142504  0.875128  1.409708   \n",
      "4  1.279491  0.949750  0.627280  0.668976  1.232537  0.703727  1.115596   \n",
      "\n",
      "        PJF       HQE       NXJ  TARGET CLASS  \n",
      "0  0.643798  0.879422  1.231409             1  \n",
      "1  1.013546  0.621552  1.492702             0  \n",
      "2  1.154483  0.957877  1.285597             0  \n",
      "3  1.380003  1.522692  1.153093             1  \n",
      "4  0.646691  1.463812  1.419167             1  \n"
     ]
    }
   ],
   "source": [
    "df = pd.read_csv('Dataset_1.csv',index_col=0)\n",
    "print(df.head())"
   ]
  },
  {
   "cell_type": "code",
   "execution_count": 14,
   "metadata": {},
   "outputs": [
    {
     "name": "stdout",
     "output_type": "stream",
     "text": [
      "        WTT       PTI       EQW       SBI       LQE       QWG       FDJ  \\\n",
      "0 -0.123542  0.185907 -0.913431  0.319629 -1.033637 -2.308375 -0.798951   \n",
      "1 -1.084836 -0.430348 -1.025313  0.625388 -0.444847 -1.152706 -1.129797   \n",
      "2 -0.788702  0.339318  0.301511  0.755873  2.031693 -0.870156  2.599818   \n",
      "3  0.982841  1.060193 -0.621399  0.625299  0.452820 -0.267220  1.750208   \n",
      "4  1.139275 -0.640392 -0.709819 -0.057175  0.822886 -0.936773  0.596782   \n",
      "\n",
      "        PJF       HQE       NXJ  \n",
      "0 -1.482368 -0.949719 -0.643314  \n",
      "1 -0.202240 -1.828051  0.636759  \n",
      "2  0.285707 -0.682494 -0.377850  \n",
      "3  1.066491  1.241325 -1.026987  \n",
      "4 -1.472352  1.040772  0.276510  \n"
     ]
    }
   ],
   "source": [
    "scaler = StandardScaler()\n",
    "scaler.fit(df.drop('TARGET CLASS',axis = 1))\n",
    "scaled_features = scaler.transform(df.drop('TARGET CLASS',axis = 1))\n",
    "df_feat = pd.DataFrame(scaled_features,columns=df.columns[:-1])\n",
    "print(df_feat.head())"
   ]
  },
  {
   "cell_type": "code",
   "execution_count": 15,
   "metadata": {},
   "outputs": [],
   "source": [
    "x_train,x_test,y_train,y_test = train_test_split(scaled_features,df['TARGET CLASS'], test_size = 0.30)"
   ]
  },
  {
   "cell_type": "code",
   "execution_count": 42,
   "metadata": {},
   "outputs": [
    {
     "data": {
      "image/png": "[encoded data removed]",
      "text/plain": [
       "<Figure size 432x288 with 1 Axes>"
      ]
     },
     "metadata": {
      "needs_background": "light"
     },
     "output_type": "display_data"
    }
   ],
   "source": [
    "error = []\n",
    "for i in range (1,40):\n",
    "    knn = KNeighborsClassifier(n_neighbors=i)\n",
    "    knn.fit(x_train,y_train)\n",
    "    pred = knn.predict(x_test)\n",
    "    error.append(np.mean(pred!=y_test))\n",
    "   # print(confusion_matrix(y_test,pred))\n",
    "    #print(classification_report(y_test,pred))\n",
    "\n",
    "plt.plot(range(1,40),error,color='red',linestyle='dashed',marker='o',markersize = 10,markerfacecolor='black')\n",
    "\n",
    "plt.show()\n",
    "\n",
    "\n"
   ]
  },
  {
   "cell_type": "code",
   "execution_count": null,
   "metadata": {},
   "outputs": [],
   "source": []
  },
  {
   "cell_type": "code",
   "execution_count": null,
   "metadata": {},
   "outputs": [],
   "source": []
  },
  {
   "cell_type": "code",
   "execution_count": null,
   "metadata": {},
   "outputs": [],
   "source": []
  },
  {
   "cell_type": "code",
   "execution_count": null,
   "metadata": {},
   "outputs": [],
   "source": []
  },
  {
   "cell_type": "code",
   "execution_count": null,
   "metadata": {},
   "outputs": [],
   "source": []
  },
  {
   "cell_type": "code",
   "execution_count": null,
   "metadata": {},
   "outputs": [],
   "source": []
  },
  {
   "cell_type": "code",
   "execution_count": null,
   "metadata": {},
   "outputs": [],
   "source": []
  }
 ],
 "metadata": {
  "kernelspec": {
   "display_name": "Python 3",
   "language": "python",
   "name": "python3"
  },
  "language_info": {
   "codemirror_mode": {
    "name": "ipython",
    "version": 3
   },
   "file_extension": ".py",
   "mimetype": "text/x-python",
   "name": "python",
   "nbconvert_exporter": "python",
   "pygments_lexer": "ipython3",
   "version": "3.7.4"
  }
 },
 "nbformat": 4,
 "nbformat_minor": 2
}
