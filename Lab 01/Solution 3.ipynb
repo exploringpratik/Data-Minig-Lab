{
 "cells": [
  {
   "cell_type": "code",
   "execution_count": 1,
   "metadata": {},
   "outputs": [
    {
     "name": "stdout",
     "output_type": "stream",
     "text": [
      "6.082762530298219\n",
      "20\n",
      "7.000\n",
      "0.972\n",
      "0.375\n"
     ]
    }
   ],
   "source": [
    "import math as mth\n",
    "from decimal import Decimal\n",
    "\n",
    "def euclidean_distance(x,y):\n",
    "    return mth.sqrt(sum(mth.pow(a-b,2 ) for a,b in zip(x,y)))\n",
    "print(euclidean_distance([4,5],[3,-1]))\n",
    "\n",
    "def manhattan_distance(x,y):\n",
    "    return sum(abs(a-b) for a,b in zip(x,y))\n",
    "print(manhattan_distance([10,20],[20,30]))\n",
    "\n",
    "def nth_root(value,n_root):\n",
    "    root_value = 1/float(n_root)\n",
    "    return round(Decimal(value) ** Decimal(root_value),3)\n",
    "\n",
    "def minkowski_distance(x,y,p_val):\n",
    "    return nth_root(sum(pow(abs(a-b),p_val)for a,b in zip(x,y)), p_val)\n",
    "print(minkowski_distance([4,5],[3,-1],1))\n",
    "\n",
    "def square_rooted(x):\n",
    "    return round(mth.sqrt(sum([a*a for a in x])),3)\n",
    "def cosine_similarity(x,y):\n",
    "    numerator = sum(a*b for a,b in zip(x,y))\n",
    "    denominator = square_rooted(x)*square_rooted(y)\n",
    "    return round(numerator/float(denominator),3)\n",
    "print(cosine_similarity([3,45,7,2],[2,54,13,15]))\n",
    "def jaccard_similarity(x,y):\n",
    "    intersection_cardinality=len(set.intersection(*[set(x),set(y)]))\n",
    "    union_cardinality=len(set.union(*[set(x),set(y)]))\n",
    "    return intersection_cardinality/float(union_cardinality)\n",
    "print(jaccard_similarity([0,1,2,5,6],[0,2,3,5,7,9]))\n",
    "    "
   ]
  },
  {
   "cell_type": "code",
   "execution_count": null,
   "metadata": {},
   "outputs": [],
   "source": []
  }
 ],
 "metadata": {
  "kernelspec": {
   "display_name": "Python 3",
   "language": "python",
   "name": "python3"
  },
  "language_info": {
   "codemirror_mode": {
    "name": "ipython",
    "version": 3
   },
   "file_extension": ".py",
   "mimetype": "text/x-python",
   "name": "python",
   "nbconvert_exporter": "python",
   "pygments_lexer": "ipython3",
   "version": "3.7.4"
  }
 },
 "nbformat": 4,
 "nbformat_minor": 4
}
