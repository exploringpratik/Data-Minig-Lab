{
 "cells": [
  {
   "cell_type": "code",
   "execution_count": 5,
   "metadata": {},
   "outputs": [
    {
     "ename": "SyntaxError",
     "evalue": "invalid syntax (<ipython-input-5-246055e1a90f>, line 11)",
     "output_type": "error",
     "traceback": [
      "\u001b[1;36m  File \u001b[1;32m\"<ipython-input-5-246055e1a90f>\"\u001b[1;36m, line \u001b[1;32m11\u001b[0m\n\u001b[1;33m    print('x1 =,'x1)\u001b[0m\n\u001b[1;37m                  ^\u001b[0m\n\u001b[1;31mSyntaxError\u001b[0m\u001b[1;31m:\u001b[0m invalid syntax\n"
     ]
    }
   ],
   "source": [
    "#find mean, median, mode, covariance matrix, eigens value, eigens vector\n",
    "import numpy as np\n",
    "import matplotlib.pyplot as plt\n",
    "import scipy.linalg as la\n",
    "\n",
    "x1 = [1,-1.1,1.5,2.05,6.1,3,-2,-2.5,-4,-4.5,-5.2,-3.2]\n",
    "x2 = [2,-1.8,3.2,4.05,11,5.8,-4.3,-5.2,-7.5,-9,-10,-5.8]\n",
    "\n",
    "meanX1 = np.mean(x1)\n",
    "meanX2 = np.mean(x2)\n",
    "print('x1 =,'x1)\n",
    "print('x2 ='x2)\n",
    "\n",
    "\n",
    "x3 = x1 - meanX1\n",
    "x4 = x2 - meanX2\n",
    "covMat = np.cov(x3,x4)\n",
    "print(\"CovMat\",covMat)\n",
    "\n",
    "\n",
    "[eigVals_mtrx, eigVecs_mtrx] = la.eig(covMat)\n",
    "\n",
    "print(\"eigVals_mtrx\",eigVals_mtrx)\n",
    "print(\"eigVecs_mtrx\",eigVecs_mtrx)"
   ]
  },
  {
   "cell_type": "code",
   "execution_count": null,
   "metadata": {},
   "outputs": [],
   "source": []
  }
 ],
 "metadata": {
  "kernelspec": {
   "display_name": "Python 3",
   "language": "python",
   "name": "python3"
  },
  "language_info": {
   "codemirror_mode": {
    "name": "ipython",
    "version": 3
   },
   "file_extension": ".py",
   "mimetype": "text/x-python",
   "name": "python",
   "nbconvert_exporter": "python",
   "pygments_lexer": "ipython3",
   "version": "3.7.4"
  }
 },
 "nbformat": 4,
 "nbformat_minor": 4
}
